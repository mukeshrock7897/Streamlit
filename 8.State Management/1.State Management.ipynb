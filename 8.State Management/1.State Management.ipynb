{
 "cells": [
  {
   "cell_type": "markdown",
   "metadata": {},
   "source": [
    "\n",
    "---\n",
    "\n",
    "## 🔄 **State Management**\n",
    "\n",
    "| Topic              | Feature                                                                 |\n",
    "| ------------------ | ----------------------------------------------------------------------- |\n",
    "| **Session State**  | `st.session_state` – Store and access widget states or custom variables |\n",
    "| **Callbacks**      | Use `on_change=` in widgets – Trigger functions when widget changes     |\n",
    "| **Keying Widgets** | `key=\"name\"` – Assign unique keys to prevent conflicts or reuse state   |\n",
    "\n",
    "---\n",
    "\n"
   ]
  }
 ],
 "metadata": {
  "language_info": {
   "name": "python"
  }
 },
 "nbformat": 4,
 "nbformat_minor": 2
}
