{
 "cells": [
  {
   "cell_type": "markdown",
   "metadata": {},
   "source": [
    "\n",
    "---\n",
    "\n",
    "## 🔄 **State Management**\n",
    "\n",
    "| Feature/Concept      | Streamlit Function(s)                           | Real-Time Use Case Example                                    |\n",
    "| -------------------- | ----------------------------------------------- | ------------------------------------------------------------- |\n",
    "| **Session State**    | `st.session_state`                              | Store user selections, model outputs, form progress           |\n",
    "| **Widget Callbacks** | `on_change=callback_fn` (used in input widgets) | Auto-run logic when user updates filters, sliders, selections |\n",
    "| **Widget Keys**      | `key=\"unique_name\"`                             | Manage multiple similar widgets, retain input state           |\n",
    "\n",
    "\n",
    "---\n",
    "\n"
   ]
  },
  {
   "cell_type": "markdown",
   "metadata": {},
   "source": []
  }
 ],
 "metadata": {
  "language_info": {
   "name": "python"
  }
 },
 "nbformat": 4,
 "nbformat_minor": 2
}
