{
 "cells": [
  {
   "cell_type": "markdown",
   "metadata": {},
   "source": [
    "\n",
    "---\n",
    "\n",
    "## 📦 **Displaying Data**\n",
    "\n",
    "| Feature       | Function                                                                   |\n",
    "| ------------- | -------------------------------------------------------------------------- |\n",
    "| **Tables**    | `st.dataframe(data)` – Interactive grid<br>`st.table(data)` – Static table |\n",
    "| **JSON**      | `st.json(data)` – Neatly formats and expands nested dictionaries/lists     |\n",
    "| **Metrics**   | `st.metric(label, value, delta)` – Show KPIs with optional delta arrows    |\n",
    "| **Columns**   | `st.columns(n)` – Split layout into multiple columns                       |\n",
    "| **Expanders** | `st.expander(label)` – Collapsible section for hiding content initially    |\n",
    "\n",
    "---\n"
   ]
  }
 ],
 "metadata": {
  "language_info": {
   "name": "python"
  }
 },
 "nbformat": 4,
 "nbformat_minor": 2
}
