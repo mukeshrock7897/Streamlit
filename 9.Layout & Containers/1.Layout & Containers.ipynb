{
 "cells": [
  {
   "cell_type": "markdown",
   "metadata": {},
   "source": [
    "\n",
    "---\n",
    "\n",
    "## 🧱 **Layout & Containers**\n",
    "\n",
    "| Feature          | Usage Description                             |\n",
    "| ---------------- | --------------------------------------------- |\n",
    "| `st.sidebar`     | Create a sidebar panel for filters, nav, etc. |\n",
    "| `st.container()` | Group multiple elements together              |\n",
    "| `st.columns()`   | Arrange widgets in a grid layout (horizontal) |\n",
    "| `st.expander()`  | Hide/show sections in a collapsible block     |\n",
    "| `st.empty()`     | Render placeholders to be updated later       |\n",
    "\n",
    "---\n",
    "\n"
   ]
  }
 ],
 "metadata": {
  "language_info": {
   "name": "python"
  }
 },
 "nbformat": 4,
 "nbformat_minor": 2
}
