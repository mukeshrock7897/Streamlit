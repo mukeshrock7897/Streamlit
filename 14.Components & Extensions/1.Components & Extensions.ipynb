{
 "cells": [
  {
   "cell_type": "markdown",
   "metadata": {},
   "source": [
    "\n",
    "---\n",
    "\n",
    "## 📚 **Components & Extensions**\n",
    "\n",
    "| Type                      | Usage Description                                                                    | Real-Time Use Case Example                                  |\n",
    "| ------------------------- | ------------------------------------------------------------------------------------ | ----------------------------------------------------------- |\n",
    "| **Native Components API** | Use `streamlit.components.v1.html()` or `iframe()` to embed **custom HTML/JS**       | Add web widgets, embed visualizations, or third-party UIs   |\n",
    "| **Community Components**  | Ready-made components like `streamlit-option-menu`, `streamlit-aggrid`, `st-chat-ui` | Navigation menus, interactive data grids, chatbot UIs       |\n",
    "| **Custom Widgets**        | Build using **Streamlit Component SDK** (React/JS frontend + Python backend)         | Create reusable design systems or industry-specific widgets |\n",
    "\n",
    "\n",
    "---\n",
    "\n",
    "💡 **Why use this?**\n",
    "To **extend Streamlit’s core UI** with more interactive or customized features (charts, selectors, grids, etc.).\n",
    "\n"
   ]
  },
  {
   "cell_type": "markdown",
   "metadata": {},
   "source": []
  }
 ],
 "metadata": {
  "language_info": {
   "name": "python"
  }
 },
 "nbformat": 4,
 "nbformat_minor": 2
}
