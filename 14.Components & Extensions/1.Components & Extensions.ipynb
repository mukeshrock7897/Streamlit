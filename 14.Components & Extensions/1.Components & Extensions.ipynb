{
 "cells": [
  {
   "cell_type": "markdown",
   "metadata": {},
   "source": [
    "\n",
    "---\n",
    "\n",
    "## 📚 **Components & Extensions**\n",
    "\n",
    "| Type                     | Feature                                                                               |\n",
    "| ------------------------ | ------------------------------------------------------------------------------------- |\n",
    "| **Streamlit Components** | Use `streamlit.components.v1` to embed **custom HTML, JS, or iframes**                |\n",
    "| **Community Components** | Plug-n-play packages like `streamlit-option-menu`, `streamlit-aggrid` for advanced UI |\n",
    "| **Custom Widgets**       | Build with **Streamlit Component SDK** or embed with `iframe`                         |\n",
    "\n",
    "---\n",
    "\n",
    "💡 **Why use this?**\n",
    "To **extend Streamlit’s core UI** with more interactive or customized features (charts, selectors, grids, etc.).\n",
    "\n"
   ]
  }
 ],
 "metadata": {
  "language_info": {
   "name": "python"
  }
 },
 "nbformat": 4,
 "nbformat_minor": 2
}
