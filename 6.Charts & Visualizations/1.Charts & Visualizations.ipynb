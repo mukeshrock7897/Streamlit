{
 "cells": [
  {
   "cell_type": "markdown",
   "metadata": {},
   "source": [
    "\n",
    "---\n",
    "\n",
    "## 📈 **Charts & Visualizations**\n",
    "\n",
    "| Category            | Function                                                                                   |\n",
    "| ------------------- | ------------------------------------------------------------------------------------------ |\n",
    "| **Static Charts**   | `st.line_chart()`, `st.area_chart()`, `st.bar_chart()` — For quick, auto-generated visuals |\n",
    "| **Custom Charts**   | `st.pyplot()`, `st.altair_chart()`, `st.plotly_chart()` — Use custom plotting libraries    |\n",
    "| **Geospatial Maps** | `st.map()`, `st.pydeck_chart()` — Visualize location-based data on maps                    |\n",
    "\n",
    "---\n",
    "\n"
   ]
  }
 ],
 "metadata": {
  "language_info": {
   "name": "python"
  }
 },
 "nbformat": 4,
 "nbformat_minor": 2
}
