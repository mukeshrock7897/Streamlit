{
 "cells": [
  {
   "cell_type": "markdown",
   "metadata": {},
   "source": [
    "\n",
    "---\n",
    "\n",
    "## 📂 **Theming & Appearance**\n",
    "\n",
    "| Feature                  | Description                                      |\n",
    "| ------------------------ | ------------------------------------------------ |\n",
    "| `.streamlit/config.toml` | Set global theme: colors, fonts, layout          |\n",
    "| Light/Dark Mode          | Auto or manual toggle based on user/system pref  |\n",
    "| `st.set_page_config()`   | Define page title, favicon, layout, sidebar mode |\n",
    "\n",
    "---\n",
    "\n",
    "🎨 These options allow you to **personalize the look and feel** of your app to match branding, improve readability, or enhance UX.\n",
    "\n"
   ]
  }
 ],
 "metadata": {
  "language_info": {
   "name": "python"
  }
 },
 "nbformat": 4,
 "nbformat_minor": 2
}
