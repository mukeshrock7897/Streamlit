{
 "cells": [
  {
   "cell_type": "markdown",
   "metadata": {},
   "source": [
    "\n",
    "---\n",
    "\n",
    "## ⚙️ **Caching & Performance**\n",
    "\n",
    "| Function             | Purpose                                                          |\n",
    "| -------------------- | ---------------------------------------------------------------- |\n",
    "| `@st.cache_data`     | Cache **data-returning** functions (e.g., API calls, DataFrames) |\n",
    "| `@st.cache_resource` | Cache **expensive resources** (e.g., ML models, DB connections)  |\n",
    "\n",
    "---\n",
    "\n",
    "🚀 **Why use it?**\n",
    "To speed up app performance by **avoiding redundant computation** or resource loading on reruns.\n",
    "\n"
   ]
  }
 ],
 "metadata": {
  "language_info": {
   "name": "python"
  }
 },
 "nbformat": 4,
 "nbformat_minor": 2
}
