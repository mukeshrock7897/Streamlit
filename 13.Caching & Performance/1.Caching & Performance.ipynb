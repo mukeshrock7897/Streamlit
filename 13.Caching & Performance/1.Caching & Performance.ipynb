{
 "cells": [
  {
   "cell_type": "markdown",
   "metadata": {},
   "source": [
    "\n",
    "---\n",
    "\n",
    "## ⚙️ **Caching & Performance**\n",
    "\n",
    "| Function             | Purpose                                                                 |\n",
    "| -------------------- | ----------------------------------------------------------------------- |\n",
    "| `@st.cache_data`     | Cache **pure functions that return data** (e.g., DataFrames, API calls) |\n",
    "| `@st.cache_resource` | Cache **heavy resources** (e.g., ML models, DB engines, configs)        |\n",
    "| `st.spinner()`       | Show **loading indicator** while processing tasks                       |\n",
    "| `st.toast()`         | Display **non-blocking notifications** (e.g., \"Saved!\" confirmation)    |\n",
    "| `st.rerun()`         | Programmatically **refresh the app** state                              |\n",
    "\n",
    "\n",
    "---\n",
    "\n",
    "🚀 **Why use it?**\n",
    "To speed up app performance by **avoiding redundant computation** or resource loading on reruns.\n",
    "\n"
   ]
  },
  {
   "cell_type": "markdown",
   "metadata": {},
   "source": []
  }
 ],
 "metadata": {
  "language_info": {
   "name": "python"
  }
 },
 "nbformat": 4,
 "nbformat_minor": 2
}
