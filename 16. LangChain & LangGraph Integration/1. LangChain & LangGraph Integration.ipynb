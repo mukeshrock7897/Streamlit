{
 "cells": [
  {
   "cell_type": "markdown",
   "metadata": {},
   "source": [
    "\n",
    "---\n",
    "\n",
    "## 🧠 **LangChain & LangGraph Integration**\n",
    "\n",
    "| 🔢 **Topic**                    | 🧩 **Purpose / Usage**                                                                    |\n",
    "| ------------------------------- | ----------------------------------------------------------------------------------------- |\n",
    "| 📦 **Installing & Setup**       | `pip install streamlit langchain langgraph openai` (plus any tool-specific deps)          |\n",
    "| 🧩 **Streamlit + LangChain UI** | Use Streamlit widgets like `st.text_input`, `st.button` to pass user input into LangChain |\n",
    "| 🔗 **Chains & Agents**          | Design and run LangChain chains/agents that trigger via Streamlit UI events               |\n",
    "| 💬 **Chatbot UI**               | Combine `st.chat_input()` and `st.chat_message()` with LangChain’s chat models            |\n",
    "| 🧮 **Memory Handling**          | Use `ConversationBufferMemory` or `ConversationSummaryMemory` + `st.session_state`        |\n",
    "| 📊 **Visualizing Chain Graphs** | Render LangGraph workflows using `st.graphviz_chart()` or `st.image()` with diagrams      |\n",
    "| 🔁 **Callbacks & Tracing**      | Capture internal LangChain events into UI logs or interactive displays                    |\n",
    "| 📁 **File / Doc QA**            | Use `st.file_uploader()` → feed into LangChain loader → embed → retrieve → respond        |\n",
    "| 🧭 **Routing with LangGraph**   | Use LangGraph nodes for conditional routing, triggered from Streamlit flows               |\n",
    "| 🧪 **Testing Tools**            | Show LangChain trace logs using `st.expander()`, `st.code()`, or `st.json()`              |\n",
    "| 🌐 **External Tools**           | Connect APIs like OpenAI, SerpAPI, Google Search via tools inside LangChain agents        |\n",
    "| 🛠️ **Agent Toolkits**          | Add custom tools (`tool`) into LangChain agents; invoke via Streamlit interaction         |\n",
    "| 📄 **YAML / Configs**           | Allow uploading YAML-defined chains; parse configs and execute in Streamlit               |\n",
    "\n",
    "---\n",
    "\n"
   ]
  }
 ],
 "metadata": {
  "language_info": {
   "name": "python"
  }
 },
 "nbformat": 4,
 "nbformat_minor": 2
}
