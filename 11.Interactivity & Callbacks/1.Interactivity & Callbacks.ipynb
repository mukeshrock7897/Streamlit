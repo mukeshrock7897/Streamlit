{
 "cells": [
  {
   "cell_type": "markdown",
   "metadata": {},
   "source": [
    "\n",
    "---\n",
    "\n",
    "## 📤 **Interactivity & Callbacks**\n",
    "\n",
    "| Concept                                 | Use                                         |\n",
    "| --------------------------------------- | ------------------------------------------- |\n",
    "| `on_click`, `on_change`                 | Attach callback functions to widget changes |\n",
    "| `st.form()` / `st.form_submit_button()` | Group multiple widgets into a form block    |\n",
    "\n",
    "---\n",
    "\n",
    "⚙️ These features help you **add control flow**, **group inputs**, and **trigger actions** only when needed — ideal for apps with structured user interaction.\n",
    "\n"
   ]
  }
 ],
 "metadata": {
  "language_info": {
   "name": "python"
  }
 },
 "nbformat": 4,
 "nbformat_minor": 2
}
