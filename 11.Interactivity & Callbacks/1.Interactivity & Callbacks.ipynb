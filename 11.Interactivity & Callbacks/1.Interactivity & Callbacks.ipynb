{
 "cells": [
  {
   "cell_type": "markdown",
   "metadata": {},
   "source": [
    "\n",
    "---\n",
    "\n",
    "## 📤 **Interactivity & Callbacks**\n",
    "\n",
    "| Feature / Concept    | Streamlit Function(s)                  | Real-Time Use Case Example                           |\n",
    "| -------------------- | -------------------------------------- | ---------------------------------------------------- |\n",
    "| **Widget Callbacks** | `on_click=`, `on_change=`              | Run logic when filters, sliders, or inputs change    |\n",
    "| **Grouped Forms**    | `st.form()`, `st.form_submit_button()` | Submit multiple inputs at once (e.g. login, filters) |\n",
    "\n",
    "---\n",
    "\n",
    "⚙️ These features help you **add control flow**, **group inputs**, and **trigger actions** only when needed — ideal for apps with structured user interaction.\n",
    "\n"
   ]
  },
  {
   "cell_type": "markdown",
   "metadata": {},
   "source": []
  }
 ],
 "metadata": {
  "language_info": {
   "name": "python"
  }
 },
 "nbformat": 4,
 "nbformat_minor": 2
}
