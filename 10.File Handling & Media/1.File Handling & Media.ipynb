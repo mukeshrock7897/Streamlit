{
 "cells": [
  {
   "cell_type": "markdown",
   "metadata": {},
   "source": [
    "\n",
    "---\n",
    "\n",
    "## 🧪 **File Handling & Media**\n",
    "\n",
    "| Type     | Function               | Purpose                                |\n",
    "| -------- | ---------------------- | -------------------------------------- |\n",
    "| Upload   | `st.file_uploader()`   | Upload CSVs, images, PDFs, etc.        |\n",
    "| Download | `st.download_button()` | Download any file or generated output  |\n",
    "| Image    | `st.image()`           | Display static images (JPG, PNG, etc.) |\n",
    "| Audio    | `st.audio()`           | Play audio files (MP3, WAV, etc.)      |\n",
    "| Video    | `st.video()`           | Stream video files (MP4, WebM, etc.)   |\n",
    "\n",
    "---\n",
    "\n"
   ]
  }
 ],
 "metadata": {
  "language_info": {
   "name": "python"
  }
 },
 "nbformat": 4,
 "nbformat_minor": 2
}
